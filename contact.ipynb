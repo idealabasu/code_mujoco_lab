{
 "cells": [
  {
   "cell_type": "markdown",
   "metadata": {},
   "source": [
    "## Working with contact in MuJoCo\n",
    "\n",
    "This chapter introduces how to work with contact in MuJoCo simulations\n",
    "\n",
    "First we import some basic libraries"
   ]
  },
  {
   "cell_type": "code",
   "execution_count": 1,
   "metadata": {},
   "outputs": [],
   "source": [
    "import mujoco\n",
    "import mediapy as media\n",
    "import matplotlib.pyplot as plt\n",
    "import numpy"
   ]
  },
  {
   "cell_type": "markdown",
   "metadata": {},
   "source": [
    "The XML file has a couple interesting lines.\n",
    "\n",
    "In the ```<default>``` tag we see some defaults set for all geoms.  This is one of the easier ways to define contact interactions between all bodies, because it allows us to define parameters globally, and yet tune them locally for particular body/body interactions\n",
    "\n",
    "```xml\n",
    "<geom contype=\"1\" conaffinity=\"1\" condim=\"3\" friction=\".6 .3 .3\" solimp=\".99 .99 .01\" solref=\".001 1\" margin=\"0.001\" group=\"0\"/>\n",
    "```\n",
    "\n",
    "We also see the line where we set the integrator.  The RK4 integrator is generally going to give us more precise results at the cost of more timesteps (when needed).  The comparison\n",
    "\n",
    "```xml\n",
    "<option integrator=\"RK4\"/>\n",
    "```\n",
    "\n",
    "additionally, we see that the timestep has been specified.  By changing the timestep, we will be able to understand how this results in varying precision.\n",
    "\n",
    "```xml\n",
    "<option timestep=\"1e-4\"/>\n",
    "```"
   ]
  },
  {
   "cell_type": "code",
   "execution_count": 2,
   "metadata": {},
   "outputs": [],
   "source": [
    "xml = \"\"\"\n",
    "<mujoco>\n",
    "  <default>\n",
    "      <light castshadow=\"false\" diffuse=\"1 1 1\"/>\n",
    "      <camera fovy=\"45\"/>\n",
    "      <geom contype=\"1\" conaffinity=\"1\" condim=\"3\" friction=\".6 .3 .3\" solimp=\".99 .99 .01\" solref=\".001 1\" margin=\"0.001\" group=\"0\"/>\n",
    "  </default>\n",
    "  <option timestep=\"1e-4\"/>\n",
    "  <option integrator=\"RK4\"/>\n",
    "  <worldbody>\n",
    "    <light pos=\"0 0 10\"/>\n",
    "    <geom name=\"ground\" type=\"plane\" pos=\"0 0 -.05\" size=\"5 5 .05\" rgba=\".5 .5 .5 1\"/>\n",
    "    <camera name=\"target\" mode=\"targetbody\" target=\"body1\" pos=\"0 -5 5\" quat=\".707 .707 0 0\" />\n",
    "    <body name=\"body1\" pos=\"1 0 5\">\n",
    "      <joint type=\"free\"/>\n",
    "      <geom type=\"box\" size=\".5 .5 .5\" rgba=\"1 0 0 1\"/>\n",
    "    </body>\n",
    "    <body name=\"body2\" pos=\"-1 0 5.5\">\n",
    "      <joint type=\"free\"/>\n",
    "      <geom type=\"box\" size=\".5 .5 .5\" rgba=\"1 0 0 1\"/>\n",
    "    </body>\n",
    "  </worldbody>\n",
    "</mujoco>\n",
    "\"\"\""
   ]
  },
  {
   "cell_type": "markdown",
   "metadata": {},
   "source": [
    "Create model, data and renderer"
   ]
  },
  {
   "cell_type": "code",
   "execution_count": 3,
   "metadata": {},
   "outputs": [],
   "source": [
    "model = mujoco.MjModel.from_xml_string(xml)\n",
    "data = mujoco.MjData(model)\n",
    "renderer = mujoco.Renderer(model)"
   ]
  },
  {
   "cell_type": "markdown",
   "metadata": {},
   "source": [
    "Set visualization options to visualize contact locations, force"
   ]
  },
  {
   "cell_type": "code",
   "execution_count": 4,
   "metadata": {},
   "outputs": [],
   "source": [
    "options = mujoco.MjvOption()\n",
    "mujoco.mjv_defaultOption(options)\n",
    "options.flags[mujoco.mjtVisFlag.mjVIS_CONTACTPOINT] = True\n",
    "options.flags[mujoco.mjtVisFlag.mjVIS_CONTACTFORCE] = True\n",
    "options.flags[mujoco.mjtVisFlag.mjVIS_TRANSPARENT] = True\n"
   ]
  },
  {
   "cell_type": "markdown",
   "metadata": {},
   "source": [
    "Set various parameters associated with scaling the resultant contact force arrows according to:\n",
    "\n",
    "<https://mujoco.readthedocs.io/en/stable/XMLreference.html#visual-scale>"
   ]
  },
  {
   "cell_type": "code",
   "execution_count": 5,
   "metadata": {},
   "outputs": [],
   "source": [
    "\n",
    "model.vis.scale.contactwidth = 0.1\n",
    "model.vis.scale.contactheight = 0.03\n",
    "model.vis.scale.forcewidth = 0.05\n",
    "model.vis.map.force = 0.3"
   ]
  },
  {
   "cell_type": "markdown",
   "metadata": {},
   "source": [
    "Set model options and other parameters.  In this example, we also pre-define the number of steps to simulate"
   ]
  },
  {
   "cell_type": "code",
   "execution_count": 6,
   "metadata": {},
   "outputs": [],
   "source": [
    "opt = model.opt\n",
    "timestep = opt.timestep\n",
    "fps = 30\n",
    "duration = 2\n",
    "model.opt.timestep = timestep\n",
    "num_steps = int(duration/timestep)"
   ]
  },
  {
   "cell_type": "markdown",
   "metadata": {},
   "source": [
    "Pre-allocate numpy arrays for holding data"
   ]
  },
  {
   "cell_type": "code",
   "execution_count": 7,
   "metadata": {},
   "outputs": [],
   "source": [
    "t = []\n",
    "force1 = numpy.zeros((num_steps,3))\n",
    "force2 = numpy.zeros((num_steps,3))\n",
    "wrench = numpy.zeros(6)\n",
    "frames = []"
   ]
  },
  {
   "cell_type": "markdown",
   "metadata": {},
   "source": [
    "Set initial conditions"
   ]
  },
  {
   "cell_type": "code",
   "execution_count": 8,
   "metadata": {},
   "outputs": [],
   "source": [
    "mujoco.mj_resetData(model, data)\n",
    "data.qvel[0:3] = numpy.array([2,0,0])\n",
    "data.qvel[3:6] = numpy.array([0,0,1])\n",
    "data.qvel[6:9] = numpy.array([1,0,0])\n",
    "data.qvel[9:12] = numpy.array([0,0,0])\n"
   ]
  },
  {
   "cell_type": "markdown",
   "metadata": {},
   "source": [
    "Run the simulation.  You can see we add contact forces to the wrench structures only if they belong to the desired geoms"
   ]
  },
  {
   "cell_type": "code",
   "execution_count": null,
   "metadata": {},
   "outputs": [],
   "source": [
    "for ii in range(num_steps):\n",
    "  mujoco.mj_step(model, data)\n",
    "  t.append(data.time)\n",
    "  \n",
    "  for jj,c in enumerate(data.contact):\n",
    "        if c.geom1==1 or c.geom2==1:\n",
    "            mujoco.mj_contactForce(model, data, jj, wrench)\n",
    "            force1[ii] += wrench[0:3]\n",
    "        if c.geom1==2 or c.geom2==2:\n",
    "            mujoco.mj_contactForce(model, data, jj, wrench)\n",
    "            force2[ii] += wrench[0:3]\n",
    "  if len(frames) < data.time * fps:\n",
    "    renderer.update_scene(data,'target',options)\n",
    "    frame = renderer.render()\n",
    "    frames.append(frame)\n",
    "    \n",
    "t = numpy.array(t)"
   ]
  },
  {
   "cell_type": "markdown",
   "metadata": {},
   "source": [
    "Show the results"
   ]
  },
  {
   "cell_type": "code",
   "execution_count": 13,
   "metadata": {},
   "outputs": [
    {
     "data": {
      "text/plain": [
       "(np.float64(-0.5), np.float64(319.5), np.float64(239.5), np.float64(-0.5))"
      ]
     },
     "execution_count": 13,
     "metadata": {},
     "output_type": "execute_result"
    },
    {
     "data": {
      "image/png": "[encoded data removed]",
      "text/plain": [
       "<Figure size 640x480 with 1 Axes>"
      ]
     },
     "metadata": {},
     "output_type": "display_data"
    }
   ],
   "source": [
    "plt.imshow(frames[-1])\n",
    "plt.axis('off')"
   ]
  },
  {
   "cell_type": "markdown",
   "metadata": {},
   "source": [
    "Show the video with:"
   ]
  },
  {
   "cell_type": "raw",
   "metadata": {},
   "source": [
    "media.show_video(frames, fps=fps,width=400,height=300)  "
   ]
  },
  {
   "cell_type": "markdown",
   "metadata": {},
   "source": [
    "Investigate the structure of the contact class, ```c```"
   ]
  },
  {
   "cell_type": "code",
   "execution_count": 10,
   "metadata": {
    "tags": []
   },
   "outputs": [
    {
     "data": {
      "text/plain": [
       "<MjContact\n",
       "  H: array([0., 0., 0., 0., 0., 0., 0., 0., 0., 0., 0., 0., 0., 0., 0., 0., 0.,\n",
       "       0., 0., 0., 0., 0., 0., 0., 0., 0., 0., 0., 0., 0., 0., 0., 0., 0.,\n",
       "       0., 0.])\n",
       "  dim: 3\n",
       "  dist: 0.0009999939962798132\n",
       "  efc_address: 28\n",
       "  elem: array([-1, -1], dtype=int32)\n",
       "  exclude: 0\n",
       "  flex: array([-1, -1], dtype=int32)\n",
       "  frame: array([ 0.,  0.,  1.,  0.,  1.,  0., -1.,  0.,  0.])\n",
       "  friction: array([0.6, 0.6, 0.3, 0.3, 0.3])\n",
       "  geom: array([0, 2], dtype=int32)\n",
       "  geom1: 0\n",
       "  geom2: 2\n",
       "  includemargin: 0.001\n",
       "  mu: 0.6\n",
       "  pos: array([ 0.52035141,  0.5       , -0.0495    ])\n",
       "  solimp: array([0.99, 0.99, 0.01, 0.5 , 2.  ])\n",
       "  solref: array([0.001, 1.   ])\n",
       "  solreffriction: array([0., 0.])\n",
       "  vert: array([-1, -1], dtype=int32)\n",
       ">"
      ]
     },
     "execution_count": 10,
     "metadata": {},
     "output_type": "execute_result"
    }
   ],
   "source": [
    "c"
   ]
  },
  {
   "cell_type": "markdown",
   "metadata": {},
   "source": [
    "You can return the sum of forces."
   ]
  },
  {
   "cell_type": "code",
   "execution_count": 11,
   "metadata": {
    "tags": []
   },
   "outputs": [
    {
     "data": {
      "text/plain": [
       "array([[ 9.81000000e+03, -7.50333129e-13, -5.45696821e-13]])"
      ]
     },
     "execution_count": 11,
     "metadata": {},
     "output_type": "execute_result"
    }
   ],
   "source": [
    "force1[-1:]"
   ]
  },
  {
   "cell_type": "markdown",
   "metadata": {},
   "source": [
    "Plot the results"
   ]
  },
  {
   "cell_type": "code",
   "execution_count": 12,
   "metadata": {},
   "outputs": [
    {
     "data": {
      "text/plain": [
       "Text(0.5, 1.0, 'Contact Force')"
      ]
     },
     "execution_count": 12,
     "metadata": {},
     "output_type": "execute_result"
    },
    {
     "data": {
      "image/png": "[encoded data removed]",
      "text/plain": [
       "<Figure size 640x480 with 1 Axes>"
      ]
     },
     "metadata": {},
     "output_type": "display_data"
    }
   ],
   "source": [
    "fig = plt.figure()\n",
    "plt.plot(t, force1)\n",
    "plt.plot(t, force2)\n",
    "plt.xlabel('Time (s)')\n",
    "plt.ylabel('Force (N)')\n",
    "plt.title('Contact Force')"
   ]
  },
  {
   "cell_type": "markdown",
   "metadata": {},
   "source": [
    "Now try rerunning the example with different contact parameters, timestep, solver, etc.  The results vary widely!"
   ]
  }
 ],
 "metadata": {
  "kernelspec": {
   "display_name": "Python 3 (ipykernel)",
   "language": "python",
   "name": "python3"
  },
  "language_info": {
   "codemirror_mode": {
    "name": "ipython",
    "version": 3
   },
   "file_extension": ".py",
   "mimetype": "text/x-python",
   "name": "python",
   "nbconvert_exporter": "python",
   "pygments_lexer": "ipython3",
   "version": "3.12.3"
  }
 },
 "nbformat": 4,
 "nbformat_minor": 4
}
