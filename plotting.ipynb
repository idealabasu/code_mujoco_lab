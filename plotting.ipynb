{
 "cells": [
  {
   "cell_type": "markdown",
   "id": "0fd2621b-5e77-439b-85b6-9d306e694ddb",
   "metadata": {},
   "source": [
    "## Plotting Mujoco Data\n"
   ]
  },
  {
   "cell_type": "code",
   "execution_count": null,
   "id": "146c1b11-ae3d-4c47-94ce-e25a82f72002",
   "metadata": {
    "tags": []
   },
   "outputs": [],
   "source": [
    "import mujoco\n",
    "import mediapy as media\n",
    "import numpy\n",
    "import matplotlib.pyplot as plt\n",
    "import math"
   ]
  },
  {
   "cell_type": "code",
   "execution_count": null,
   "id": "35dd0795-da88-4953-90fe-ece2c529563e",
   "metadata": {
    "tags": []
   },
   "outputs": [],
   "source": [
    "xml = '''\n",
    "<mujoco>\n",
    "  <worldbody>\n",
    "    <light name=\"top\" pos=\"0 0 1\"/>\n",
    "    <body name=\"sphere\">\n",
    "      <freejoint/>\n",
    "      <geom pos=\"0 0 1\" size=\"1\" rgba=\"1 0 0 1\"/>\n",
    "    </body>    \n",
    "  </worldbody>\n",
    "</mujoco>\n",
    "'''"
   ]
  },
  {
   "cell_type": "code",
   "execution_count": null,
   "id": "cb47ebca-df23-4943-804d-9efc1381ba02",
   "metadata": {
    "tags": []
   },
   "outputs": [],
   "source": [
    "model = mujoco.MjModel.from_xml_string(xml)\n",
    "data = mujoco.MjData(model)\n",
    "renderer = mujoco.Renderer(model)\n",
    "\n",
    "duration = 5  # (seconds)\n",
    "framerate = 30\n",
    "\n",
    "frames = []\n",
    "# mujoco.mj_resetData(model, data)\n",
    "\n",
    "t = []\n",
    "x = []\n",
    "v = []\n",
    "while data.time < duration:\n",
    "    mujoco.mj_step(model, data)\n",
    "    t.append(data.time)\n",
    "    x.append(data.qpos.copy())\n",
    "    v.append(data.qvel.copy())\n",
    "    \n",
    "    if len(frames) < data.time * framerate:\n",
    "        renderer.update_scene(data)\n",
    "        pixels = renderer.render()\n",
    "        frames.append(pixels)\n",
    "\n",
    "media.show_video(frames, fps=framerate)\n",
    "\n",
    "t = numpy.array(t)\n",
    "x = numpy.array(x)\n",
    "v = numpy.array(v)\n"
   ]
  },
  {
   "cell_type": "code",
   "execution_count": null,
   "id": "3134b0d0-eae3-4bcb-aa1f-5ad57e3eec28",
   "metadata": {},
   "outputs": [],
   "source": [
    "plt.plot(t,x[:,2])"
   ]
  },
  {
   "cell_type": "code",
   "execution_count": null,
   "id": "de965d48-cf4f-4192-8af3-e8ca2b59cf51",
   "metadata": {
    "tags": []
   },
   "outputs": [],
   "source": [
    "plt.plot(t,v[:,2])"
   ]
  },
  {
   "cell_type": "code",
   "execution_count": null,
   "id": "4fda2bc8-42a7-4dff-8bcf-2fcf2d06979f",
   "metadata": {
    "tags": []
   },
   "outputs": [],
   "source": [
    "xml = '''\n",
    "<mujoco>\n",
    "  <worldbody>\n",
    "    <light pos=\"0 0 10\"/>\n",
    "    <body quat=\"1 0 0 0\">\n",
    "      <joint type=\"free\"/>\n",
    "      <geom type=\"box\" size=\".5 .5 .5\" density=\"1\" pos=\"0 0 0\" rgba=\"1 0 0 1\"/>\n",
    "      <!--\n",
    "      <inertial pos=\"0 0 0\" mass=\"1\" diaginertia=\"1 1 1\" />\n",
    "      -->\n",
    "    </body>\n",
    "  </worldbody>\n",
    "</mujoco>\n",
    "'''\n"
   ]
  },
  {
   "cell_type": "code",
   "execution_count": null,
   "id": "276173dd-32ec-4f60-b599-7a861d347986",
   "metadata": {
    "tags": []
   },
   "outputs": [],
   "source": [
    "model = mujoco.MjModel.from_xml_string(xml)\n",
    "data = mujoco.MjData(model)\n",
    "renderer = mujoco.Renderer(model)\n",
    "\n",
    "duration = 5  # (seconds)\n",
    "framerate =30\n",
    "\n",
    "frames = []\n",
    "# mujoco.mj_resetData(model, data)\n",
    "data.qpos = numpy.array([0,0,0,1,0,0,0])\n",
    "\n",
    "t = math.pi*30/180\n",
    "ct = math.cos(t/2)\n",
    "st = math.sin(t/2)\n",
    "a = ct*2*math.pi\n",
    "bcd = 2*math.pi\n",
    "b = bcd*1\n",
    "c = bcd*0\n",
    "d = bcd*0\n",
    "\n",
    "data.qvel = numpy.array([0,0,0,2*math.pi,0,0])\n",
    "\n",
    "t = []\n",
    "x = []\n",
    "v = []\n",
    "while data.time < duration:\n",
    "    mujoco.mj_step(model, data)\n",
    "    t.append(data.time)\n",
    "    x.append(data.qpos.copy())\n",
    "    v.append(data.qvel.copy())\n",
    "    if len(frames) < data.time * framerate:\n",
    "        renderer.update_scene(data)\n",
    "        pixels = renderer.render()\n",
    "        frames.append(pixels)\n",
    "        "
   ]
  },
  {
   "cell_type": "code",
   "execution_count": null,
   "id": "055859a3-7e68-4501-b0ad-51298b3c12ef",
   "metadata": {
    "tags": []
   },
   "outputs": [],
   "source": [
    "media.show_video(frames, fps=framerate)"
   ]
  },
  {
   "cell_type": "code",
   "execution_count": null,
   "id": "89005f23-58e3-4dee-8e5a-bf5157f56a96",
   "metadata": {
    "tags": []
   },
   "outputs": [],
   "source": [
    "t = numpy.array(t)\n",
    "x = numpy.array(x)\n",
    "v = numpy.array(v)"
   ]
  },
  {
   "cell_type": "code",
   "execution_count": null,
   "id": "86b5340b-050b-46e1-8648-1b96bfaa1eb7",
   "metadata": {
    "tags": []
   },
   "outputs": [],
   "source": [
    "plt.plot(t,x[:,5])"
   ]
  },
  {
   "cell_type": "code",
   "execution_count": null,
   "id": "704ce66f-fec4-486f-8a86-6a4cff8032ae",
   "metadata": {
    "tags": []
   },
   "outputs": [],
   "source": [
    "plt.plot(t,v[:,3])"
   ]
  },
  {
   "cell_type": "code",
   "execution_count": null,
   "id": "35c45376-b505-4e39-a0cd-eb82de0bb5f8",
   "metadata": {},
   "outputs": [],
   "source": []
  },
  {
   "cell_type": "code",
   "execution_count": null,
   "id": "bc0546bd-b8d2-451d-b39a-64c997495645",
   "metadata": {},
   "outputs": [],
   "source": []
  }
 ],
 "metadata": {
  "kernelspec": {
   "display_name": "Python 3 (ipykernel)",
   "language": "python",
   "name": "python3"
  },
  "language_info": {
   "codemirror_mode": {
    "name": "ipython",
    "version": 3
   },
   "file_extension": ".py",
   "mimetype": "text/x-python",
   "name": "python",
   "nbconvert_exporter": "python",
   "pygments_lexer": "ipython3",
   "version": "3.9.18"
  }
 },
 "nbformat": 4,
 "nbformat_minor": 5
}
