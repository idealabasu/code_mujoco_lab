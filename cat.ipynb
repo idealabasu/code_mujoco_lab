{
 "cells": [
  {
   "cell_type": "code",
   "execution_count": null,
   "id": "32994ca5-d86f-4d29-8fe7-56291b25ac34",
   "metadata": {
    "tags": []
   },
   "outputs": [],
   "source": [
    "import os\n",
    "import mujoco\n",
    "import math\n",
    "import numpy\n",
    "import mediapy as media\n",
    "import matplotlib.pyplot as plt\n",
    "\n",
    "# import distutils.util\n",
    "# import subprocess"
   ]
  },
  {
   "cell_type": "code",
   "execution_count": null,
   "id": "778c387c",
   "metadata": {},
   "outputs": [],
   "source": [
    "width = 640\n",
    "height = 480"
   ]
  },
  {
   "cell_type": "code",
   "execution_count": null,
   "id": "e0779a38-22c4-49a3-935f-79389191154b",
   "metadata": {
    "tags": []
   },
   "outputs": [],
   "source": [
    "xml_template = \"\"\"\n",
    "<mujoco>\n",
    "  <option>\n",
    "     <flag gravity=\"enable\" contact=\"enable\" />\n",
    "  </option>\n",
    "  <option timestep=\"1e-4\"/>\n",
    "\n",
    "  <default>\n",
    "      <geom contype=\"1\" conaffinity=\"1\" condim=\"3\" friction=\".6 .3 .3\" solimp=\".75 .999 .1\" solref=\".001 1\" margin=\"0.01\" group=\"0\"/>\n",
    "  </default>\n",
    "  \n",
    "\n",
    "  <compiler angle=\"degree\" />\n",
    "    <visual><global offwidth=\"{width}\" offheight=\"{height}\" /></visual>    \n",
    "\n",
    "  <worldbody>\n",
    "    <light name=\"top\" pos=\"0 0 1\"/>\n",
    "    <camera name=\"world\" mode=\"fixed\" pos=\"0 -.5 .05\" axisangle=\"1 0 0 90\"/>\n",
    "    <camera name=\"target\" mode=\"targetbody\" target=\"trunk\" pos=\"0 -.5 .05\" axisangle=\"1 0 0 90\" />\n",
    "\n",
    "    \n",
    "    <body name=\"floor\" pos=\"0 0 0\">\n",
    "      <geom name=\"floor\" pos=\"0 0 0\" size=\"1 1 .1\" type=\"plane\" rgba=\"1 0.83 0.61 0.5\"/>\n",
    "    </body>\n",
    "\n",
    "    <body name=\"trunk\" pos=\"0 0 .1\">\n",
    "        <joint type=\"free\"/>\n",
    "        <geom type=\"box\" size=\".05 .05 .003\" pos=\"0 0 0\" rgba=\"1 0 0 1\"/>\n",
    "        <geom type=\"box\" size=\".005 .005 .05\" pos=\".05 .05 -.05\" rgba=\"1 0 0 1\"/>\n",
    "        <geom type=\"box\" size=\".005 .005 .05\" pos=\"-.05 .05 -.05\" rgba=\"1 0 0 1\"/>\n",
    "        <geom type=\"box\" size=\".005 .005 .05\" pos=\".05 -.05 -.05\" rgba=\"1 0 0 1\"/>\n",
    "        <geom type=\"box\" size=\".005 .005 .05\" pos=\"-.05 -.05 -.05\" rgba=\"1 0 0 1\"/>\n",
    "        \n",
    "\n",
    "      <body name=\"leg1_l1\" pos=\".05 0 0\">\n",
    "          <joint name=\"leg1_j1\" type=\"hinge\" axis=\"0 1 0\" pos=\"0 0 0\" stiffness=\"{k:e}\" damping=\"{b:e}\" limited=\"true\" range=\"-179 179\" springref=\"60\"/>\n",
    "          <geom type=\"box\" size=\".03 .01 .001\" pos=\".03 0 0\" rgba=\"1 0 0 1\"/>\n",
    "          <body name=\"leg1_l2\" pos=\".06 0 0\">\n",
    "            <joint name=\"leg1_j2\" type=\"hinge\" axis=\"0 1 0\"  stiffness=\"{k:e}\" damping=\"{b:e}\"  limited=\"true\" range=\"-179 179\" springref=\"-60\"/>\n",
    "            <geom type=\"box\" size=\".03 .01 .001\" pos=\".03 0 0\" rgba=\"1 0 0 1\"/>\n",
    "            <body name=\"leg1_f1\" pos=\".06 0 0\">\n",
    "              <joint name=\"leg1_j3\" type=\"hinge\" axis=\"0 1 0\"  stiffness=\"{k:e}\" damping=\"{b:e}\"  limited=\"true\" range=\"-179 179\" springref=\"0\"/>\n",
    "              <geom type=\"box\" size=\".01 .01 .001\" pos=\".01 0 0\" rgba=\"1 0 0 1\"/>\n",
    "            </body>\n",
    "          </body>\n",
    "      </body>\n",
    "\n",
    "    </body>\n",
    "  </worldbody>\n",
    "\n",
    "   <contact>\n",
    "    <exclude body1=\"leg1_l1\" body2=\"leg1_l2\" />\n",
    "    <exclude body1=\"leg1_l1\" body2=\"leg1_f1\" />\n",
    "    <exclude body1=\"leg1_l2\" body2=\"leg1_f1\" />\n",
    "  </contact>\n",
    "\n",
    "  <actuator>\n",
    "    <position name=\"m1\" joint=\"leg1_j1\" kp=\"1e0\"/>\n",
    "    <position name=\"m2\" joint=\"leg1_j2\" kp=\"1e0\"/>\n",
    "  </actuator>\n",
    "\n",
    "  <!--\n",
    "  -->\n",
    "</mujoco>\n",
    "\"\"\"\n",
    "\n",
    "xml = xml_template.format(width=width,height=height,k=1e-3,b=1e-4)"
   ]
  },
  {
   "cell_type": "code",
   "execution_count": null,
   "id": "8be3f404-d9b6-4714-a2aa-f68b05498222",
   "metadata": {
    "tags": []
   },
   "outputs": [],
   "source": [
    "model = mujoco.MjModel.from_xml_string(xml)\n",
    "data = mujoco.MjData(model)\n",
    "renderer = mujoco.Renderer(model,width=width,height=height)\n",
    "\n",
    "\n",
    "duration = 5  # (seconds)\n",
    "framerate = 30  # (Hz)\n",
    "\n",
    "\n",
    "A00 = 20 * math.pi/180\n",
    "A11 = 20 * math.pi/180\n",
    "f = 1\n",
    "t0_1 = 0\n",
    "t0_2 = -.25\n",
    "b1 = 90*math.pi/180\n",
    "b2 = -45*math.pi/180\n",
    "\n",
    "def my_controller(model, data):\n",
    "    t = data.time\n",
    "    if t<1:\n",
    "      A0=0\n",
    "      A1=0\n",
    "    elif t<2:\n",
    "      A0 = A00*(t-1)/(2-1)\n",
    "      A1 = A11*(t-1)/(2-1)\n",
    "    else:\n",
    "      A0 = A00\n",
    "      A1 = A11\n",
    "    j1 = A0*math.sin(2*math.pi*(f*t-t0_1))+b1\n",
    "    j2 = A1*math.sin(2*math.pi*(f*t-t0_2))+b2\n",
    "    # data.ctrl = [j1]\n",
    "    data.ctrl = [j1,j2]\n",
    "    return\n",
    "\n",
    "mujoco.set_mjcb_control(my_controller)\n",
    "\n",
    "frames = []\n",
    "mujoco.mj_resetData(model, data)\n",
    "data.qpos[0:3] = numpy.array([0,0,.25])\n",
    "data.qpos[7:] = numpy.array([60,-60,-60])* math.pi/180\n",
    "while data.time < duration:\n",
    "  mujoco.mj_step(model, data)\n",
    "  if len(frames) < data.time * framerate:\n",
    "    renderer.update_scene(data,camera='target')\n",
    "    pixels = renderer.render()\n",
    "    frames.append(pixels)\n",
    "\n",
    "# Simulate and display video.\n",
    "media.show_video(frames, fps=framerate,width=width,height=height)"
   ]
  },
  {
   "cell_type": "code",
   "execution_count": null,
   "id": "0f114fc2-ddb1-4569-a86f-875e364ac441",
   "metadata": {},
   "outputs": [],
   "source": [
    "data.qpos"
   ]
  },
  {
   "cell_type": "code",
   "execution_count": null,
   "id": "afd904f9",
   "metadata": {},
   "outputs": [],
   "source": [
    "data.tendon"
   ]
  },
  {
   "cell_type": "code",
   "execution_count": null,
   "id": "882c4ca0",
   "metadata": {},
   "outputs": [],
   "source": []
  }
 ],
 "metadata": {
  "kernelspec": {
   "display_name": "Python 3 (ipykernel)",
   "language": "python",
   "name": "python3"
  },
  "language_info": {
   "codemirror_mode": {
    "name": "ipython",
    "version": 3
   },
   "file_extension": ".py",
   "mimetype": "text/x-python",
   "name": "python",
   "nbconvert_exporter": "python",
   "pygments_lexer": "ipython3",
   "version": "3.11.6"
  }
 },
 "nbformat": 4,
 "nbformat_minor": 5
}
